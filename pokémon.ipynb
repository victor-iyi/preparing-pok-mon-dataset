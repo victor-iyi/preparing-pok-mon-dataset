{
 "cells": [
  {
   "cell_type": "markdown",
   "metadata": {},
   "source": [
    "# Preparing Pokémon dataset"
   ]
  },
  {
   "cell_type": "code",
   "execution_count": null,
   "metadata": {
    "collapsed": true
   },
   "outputs": [],
   "source": [
    "import os\n",
    "import sys\n",
    "\n",
    "import cv2\n",
    "import numpy as np\n",
    "from PIL import Image\n",
    "\n",
    "%matplotlib inline"
   ]
  },
  {
   "cell_type": "code",
   "execution_count": null,
   "metadata": {
    "collapsed": true
   },
   "outputs": [],
   "source": [
    "raw_dataset = 'datasets/raw'\n",
    "processed_dataset = 'datasets/processed'"
   ]
  },
  {
   "cell_type": "code",
   "execution_count": null,
   "metadata": {
    "collapsed": false
   },
   "outputs": [],
   "source": [
    "raw_generations = [os.path.join(raw_dataset, g) for g in os.listdir(raw_dataset)]\n",
    "print(raw_generations)"
   ]
  },
  {
   "cell_type": "code",
   "execution_count": null,
   "metadata": {
    "collapsed": false
   },
   "outputs": [],
   "source": [
    "def cut(image, size=64):\n",
    "    im_width = int(image.width)\n",
    "    im_height = int(image.height)\n",
    "    num_width = int(im_width / size)\n",
    "    num_height = int(im_height / size)\n",
    "    images = []\n",
    "    for h in range(num_height):\n",
    "        for w in range(num_width):\n",
    "            # box = (left, upper, right, lower)\n",
    "            box = (size*w, size*h, size*(w+1), size*(h+1))\n",
    "            images.append(image.crop(box))\n",
    "    return images"
   ]
  },
  {
   "cell_type": "code",
   "execution_count": null,
   "metadata": {
    "collapsed": false
   },
   "outputs": [],
   "source": [
    "def save(imgs, generation, img_file):\n",
    "    img_file = img_file.split('/')[-1]\n",
    "    img_cat = img_file.split('.')[0]\n",
    "    img_dir = os.path.join(processed_dataset, 'Generation{}'.format(generation))\n",
    "    if not os.path.isdir(img_dir):\n",
    "        os.makedirs(img_dir)\n",
    "    for i, img in enumerate(imgs):\n",
    "        filename = os.path.join(img_dir, '{}-{}.png'.format(img_cat, i))\n",
    "        img.save(filename)"
   ]
  },
  {
   "cell_type": "code",
   "execution_count": null,
   "metadata": {
    "collapsed": false
   },
   "outputs": [],
   "source": [
    "img_size = 64\n",
    "for n_gen, raw_gen in enumerate(raw_generations):\n",
    "    n_gen += 1\n",
    "    img_paths = [os.path.join(raw_gen, i) for i in os.listdir(raw_gen)]\n",
    "    for n_img, img_file in enumerate(img_paths):\n",
    "        try:\n",
    "            img = Image.open(img_file)\n",
    "            imgs = cut(img, size=img_size)\n",
    "            save(imgs, generation=n_gen, img_file=img_file)\n",
    "            sys.stdout.write('\\rGeneration: {}\\t image: {:,} of {:}'.format(n_gen, n_img+1, len(img_paths)))\n",
    "        except Exception as e:\n",
    "            sys.stderr.write('{}'.format(e))"
   ]
  },
  {
   "cell_type": "code",
   "execution_count": null,
   "metadata": {
    "collapsed": true
   },
   "outputs": [],
   "source": []
  }
 ],
 "metadata": {
  "kernelspec": {
   "display_name": "Python 3",
   "language": "python",
   "name": "python3"
  },
  "language_info": {
   "codemirror_mode": {
    "name": "ipython",
    "version": 3
   },
   "file_extension": ".py",
   "mimetype": "text/x-python",
   "name": "python",
   "nbconvert_exporter": "python",
   "pygments_lexer": "ipython3",
   "version": "3.6.3"
  }
 },
 "nbformat": 4,
 "nbformat_minor": 2
}
