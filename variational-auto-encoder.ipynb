{
 "cells": [
  {
   "cell_type": "markdown",
   "metadata": {
    "deletable": true,
    "editable": true
   },
   "source": [
    "# Variational Auto Encoder `VAE`"
   ]
  },
  {
   "cell_type": "markdown",
   "metadata": {
    "deletable": true,
    "editable": true
   },
   "source": [
    "## Import dependencies"
   ]
  },
  {
   "cell_type": "code",
   "execution_count": 1,
   "metadata": {
    "collapsed": true,
    "deletable": true,
    "editable": true
   },
   "outputs": [],
   "source": [
    "import os\n",
    "import sys\n",
    "import datetime as dt\n",
    "\n",
    "from PIL import Image\n",
    "\n",
    "import numpy as np\n",
    "import tensorflow as tf\n",
    "import matplotlib.pyplot as plt"
   ]
  },
  {
   "cell_type": "code",
   "execution_count": 2,
   "metadata": {
    "collapsed": true,
    "deletable": true,
    "editable": true
   },
   "outputs": [],
   "source": [
    "data_dir = 'datasets/pokemon/'\n",
    "\n",
    "data = Dataset(data_dir=data_dir)\n",
    "data.create()\n"
   ]
  },
  {
   "cell_type": "code",
   "execution_count": null,
   "metadata": {
    "collapsed": true
   },
   "outputs": [],
   "source": [
    "class Dataset:\n",
    "    COLOR_BLACK = (0, 0, 0)\n",
    "    COLOR_WHITE = (255, 255, 255)\n",
    "    COLOR_GREEN = (0, 255, 0)\n",
    "    \n",
    "    def __init__(self, data_dir, dest_dir='datasets/save/', size=256, background=None):\n",
    "        self.data_dir = data_dir\n",
    "        self.dest_dir = dest_dir\n",
    "        self.size = size\n",
    "        self._background = background if not background else self.COLOR_BLACK\n",
    "        # Next batch\n",
    "        self._num_examples = 0\n",
    "        self._epochs_completed = 0\n",
    "        self._index_in_epoch = 0\n",
    "    \n",
    "    def create(self):\n",
    "        self._process()\n",
    "        self._num_examples = self._X.shape[0]\n",
    "    \n",
    "    def next_batch(self, batch_size, shuffle=True):\n",
    "        \"\"\"\n",
    "        Get the next batch in the dataset\n",
    "\n",
    "        :param batch_size: int\n",
    "            Number of batches to be retrieved\n",
    "        :param shuffle: bool\n",
    "            Randomly shuffle the batches returned\n",
    "        :return:\n",
    "            Returns `batch_size` batches\n",
    "            features - np.array([batch_size, ?])\n",
    "        \"\"\"\n",
    "        start = self._index_in_epoch\n",
    "        # Shuffle for first epoch\n",
    "        if self._epochs_completed == 0 and start == 0 and shuffle:\n",
    "            permute = np.arange(self._num_examples)\n",
    "            np.random.shuffle(permute)\n",
    "            self._X = self._X[permute]\n",
    "        # Go to next batch\n",
    "        if start + batch_size > self._num_examples:\n",
    "            # Finished epoch\n",
    "            self._epochs_completed += 1\n",
    "            # Get the rest examples in this epoch\n",
    "            rest_examples = self._num_examples - start\n",
    "            rest_features = self._X[start:self._num_examples]\n",
    "            # Shuffle the data\n",
    "            if shuffle:\n",
    "                permute = np.arange(self._num_examples)\n",
    "                np.random.shuffle(permute)\n",
    "                self._X = self._X[permute]\n",
    "            # Start next epoch\n",
    "            start = 0\n",
    "            self._index_in_epoch = batch_size - rest_examples\n",
    "            end = self._index_in_epoch\n",
    "            features = np.concatenate((rest_features, self._X[start:end]), axis=0)\n",
    "            return features\n",
    "        else:\n",
    "            self._index_in_epoch += batch_size\n",
    "            end = self._index_in_epoch\n",
    "            return self._X[start:end]\n",
    "    \n",
    "    @property\n",
    "    def images(self):\n",
    "        return self._X\n",
    "    \n",
    "    @property\n",
    "    def num_examples(self):\n",
    "        return self._num_examples\n",
    "\n",
    "    @property\n",
    "    def index_in_epoch(self):\n",
    "        return self._index_in_epoch\n",
    "\n",
    "    @property\n",
    "    def epochs_completed(self):\n",
    "        return self._epochs_completed\n",
    "    \n",
    "    def _process(self):\n",
    "        imgs = []\n",
    "        try:\n",
    "            # convert rgba to rgb (with black background)\n",
    "            self.__rgba2rgb()\n",
    "            files = [os.path.join(self.dest_dir, d) for d in os.listdir(self.dest_dir)]\n",
    "            for file in files:\n",
    "                img = Image.open(file)\n",
    "                img = img.resize(size=(self.size, self.size))\n",
    "                img = np.array(img, dtype=np.float32)\n",
    "                imgs.append(img)\n",
    "        except Exception as e:\n",
    "            sys.stderr.write('\\r{}'.format(e))\n",
    "        self._X = np.array(imgs)\n",
    "    \n",
    "    def __rgba2rgb(self):\n",
    "        if os.path.isdir(self.dest_dir) and len(os.listdir(self.dest_dir)) > 1:\n",
    "            sys.stderr.write('{} already exist.'.format(self.dest_dir))\n",
    "            sys.stderr.flush()\n",
    "            return\n",
    "        os.makedirs(self.dest_dir)\n",
    "        files = os.listdir(self.data_dir)\n",
    "        for i, each in enumerate(files):\n",
    "            try:\n",
    "                png = Image.open(os.path.join(self.data_dir, each))\n",
    "                if png.mode == 'RGBA':\n",
    "                    png.load() # required for png.split()\n",
    "                    background = Image.new(\"RGB\", png.size, color=self._background)\n",
    "                    background.paste(png, mask=png.split()[3]) # 3 is the alpha channel\n",
    "                    background.save(os.path.join(self.dest_dir, each.split('.')[0] + '.jpg'), 'JPEG')\n",
    "                else:\n",
    "                    png.convert('RGB')\n",
    "                    png.save(os.path.join(dest, each.split('.')[0] + '.jpg'), 'JPEG')\n",
    "            except Exception as e:\n",
    "                sys.stderr.write('{} – {}\\n'.format(e, png.filename))\n",
    "                os.unlink(os.path.join(self.dest_dir, each.split('.')[0] + '.jpg'))\n",
    "            finally:\n",
    "                sys.stdout.write('\\r{:,} of {:,}'.format(i+1, len(files)))\n",
    "    "
   ]
  }
 ],
 "metadata": {
  "kernelspec": {
   "display_name": "Python 3",
   "language": "python",
   "name": "python3"
  },
  "language_info": {
   "codemirror_mode": {
    "name": "ipython",
    "version": 3
   },
   "file_extension": ".py",
   "mimetype": "text/x-python",
   "name": "python",
   "nbconvert_exporter": "python",
   "pygments_lexer": "ipython3",
   "version": "3.6.3"
  }
 },
 "nbformat": 4,
 "nbformat_minor": 2
}
