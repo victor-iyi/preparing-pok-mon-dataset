{
 "cells": [
  {
   "cell_type": "markdown",
   "metadata": {},
   "source": [
    "# Variational Auto Encoder `VAE`"
   ]
  },
  {
   "cell_type": "markdown",
   "metadata": {},
   "source": [
    "## Import dependencies"
   ]
  },
  {
   "cell_type": "code",
   "execution_count": 1,
   "metadata": {
    "collapsed": true
   },
   "outputs": [],
   "source": [
    "import os\n",
    "import sys\n",
    "import datetime as dt\n",
    "\n",
    "from PIL import Image\n",
    "\n",
    "import numpy as np\n",
    "import tensorflow as tf\n",
    "import matplotlib.pyplot as plt"
   ]
  },
  {
   "cell_type": "code",
   "execution_count": 2,
   "metadata": {
    "collapsed": true
   },
   "outputs": [],
   "source": [
    "data_dir = 'datasets/pokemon/'"
   ]
  },
  {
   "cell_type": "code",
   "execution_count": 3,
   "metadata": {
    "collapsed": false
   },
   "outputs": [],
   "source": [
    "def rgba2rgb(src, dest, color=(255, 255, 255)):\n",
    "    assert os.path.isdir(src), 'src does not exist - {}'.format(src)\n",
    "    assert os.path.isdir(dest), 'dest does not exist - {}'.format(dest)\n",
    "    files = os.listdir(src)\n",
    "    for i, each in enumerate(files):\n",
    "        try:\n",
    "            png = Image.open(os.path.join(src,each))\n",
    "            if png.mode == 'RGBA':\n",
    "                png.load() # required for png.split()\n",
    "                background = Image.new(\"RGB\", png.size, color=color)\n",
    "                background.paste(png, mask=png.split()[3]) # 3 is the alpha channel\n",
    "                background.save(os.path.join(dest, each.split('.')[0] + '.jpg'), 'JPEG')\n",
    "            else:\n",
    "                png.convert('RGB')\n",
    "                png.save(os.path.join(dest, each.split('.')[0] + '.jpg'), 'JPEG')\n",
    "        except Exception as e:\n",
    "            sys.stderr.write('{} – {}\\n'.format(e, png.filename))\n",
    "            os.unlink(os.path.join(dest, each.split('.')[0] + '.jpg'))\n",
    "        finally:\n",
    "            sys.stdout.write('\\r{:,} of {:,}'.format(i+1, len(files)))"
   ]
  },
  {
   "cell_type": "code",
   "execution_count": 4,
   "metadata": {
    "collapsed": false
   },
   "outputs": [],
   "source": [
    "def preprocess(data_dir, save_dir='datasets/save'):\n",
    "    if not os.path.isdir(save_dir):\n",
    "        os.makedirs(save_dir)\n",
    "    try:\n",
    "        # convert rgba to rgb (with black background)\n",
    "        rgba2rgb(data_dir, save_dir)\n",
    "        # TODO: continue preprocessing\n",
    "    except Exception as e:\n",
    "        sys.stderr.write('{}\\n'.format(e))"
   ]
  },
  {
   "cell_type": "code",
   "execution_count": 5,
   "metadata": {
    "collapsed": false,
    "scrolled": true
   },
   "outputs": [
    {
     "name": "stdout",
     "output_type": "stream",
     "text": [
      "21 of 100"
     ]
    },
    {
     "name": "stderr",
     "output_type": "stream",
     "text": [
      "cannot write mode P as JPEG – datasets/pokemon/121.png\n"
     ]
    },
    {
     "name": "stdout",
     "output_type": "stream",
     "text": [
      "55 of 100"
     ]
    },
    {
     "name": "stderr",
     "output_type": "stream",
     "text": [
      "cannot write mode P as JPEG – datasets/pokemon/180.png\n"
     ]
    },
    {
     "name": "stdout",
     "output_type": "stream",
     "text": [
      "79 of 100"
     ]
    },
    {
     "name": "stderr",
     "output_type": "stream",
     "text": [
      "cannot write mode P as JPEG – datasets/pokemon/221.png\n"
     ]
    },
    {
     "name": "stdout",
     "output_type": "stream",
     "text": [
      "100 of 100"
     ]
    }
   ],
   "source": [
    "preprocess(data_dir)"
   ]
  },
  {
   "cell_type": "code",
   "execution_count": null,
   "metadata": {
    "collapsed": true
   },
   "outputs": [],
   "source": [
    "test_img = Image.open('datasets/pokemon/121.png')"
   ]
  },
  {
   "cell_type": "code",
   "execution_count": null,
   "metadata": {
    "collapsed": false
   },
   "outputs": [],
   "source": [
    "test_img"
   ]
  },
  {
   "cell_type": "code",
   "execution_count": null,
   "metadata": {
    "collapsed": false
   },
   "outputs": [],
   "source": [
    "np.array(test_img).shape"
   ]
  },
  {
   "cell_type": "code",
   "execution_count": null,
   "metadata": {
    "collapsed": true
   },
   "outputs": [],
   "source": []
  }
 ],
 "metadata": {
  "kernelspec": {
   "display_name": "Python 3",
   "language": "python",
   "name": "python3"
  },
  "language_info": {
   "codemirror_mode": {
    "name": "ipython",
    "version": 3
   },
   "file_extension": ".py",
   "mimetype": "text/x-python",
   "name": "python",
   "nbconvert_exporter": "python",
   "pygments_lexer": "ipython3",
   "version": "3.6.3"
  }
 },
 "nbformat": 4,
 "nbformat_minor": 2
}
