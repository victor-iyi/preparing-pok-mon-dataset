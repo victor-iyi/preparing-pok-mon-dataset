{
 "cells": [
  {
   "cell_type": "markdown",
   "metadata": {
    "deletable": true,
    "editable": true
   },
   "source": [
    "# Variational Auto Encoder `VAE`"
   ]
  },
  {
   "cell_type": "markdown",
   "metadata": {
    "deletable": true,
    "editable": true
   },
   "source": [
    "## Import dependencies"
   ]
  },
  {
   "cell_type": "code",
   "execution_count": null,
   "metadata": {
    "collapsed": true,
    "deletable": true,
    "editable": true
   },
   "outputs": [],
   "source": [
    "import os\n",
    "import sys\n",
    "import datetime as dt\n",
    "\n",
    "import numpy as np\n",
    "import tensorflow as tf\n",
    "import tflearn\n",
    "import matplotlib.pyplot as plt\n",
    "\n",
    "from dataset import Dataset\n",
    "\n",
    "%matplotlib inline"
   ]
  },
  {
   "cell_type": "markdown",
   "metadata": {
    "deletable": true,
    "editable": true
   },
   "source": [
    "## Loading datasets"
   ]
  },
  {
   "cell_type": "code",
   "execution_count": null,
   "metadata": {
    "collapsed": false,
    "deletable": true,
    "editable": true,
    "scrolled": true
   },
   "outputs": [],
   "source": [
    "data_dir = 'datasets/pokemon/'\n",
    "save_file = 'datasets/data/save.pkl'\n",
    "data = Dataset(data_dir=data_dir, dest_dir='datasets/save/', background=Dataset.COLOR_WHITE)\n",
    "data.create(flatten=True, force=True)\n",
    "data.save(save_file=save_file, force=True)\n",
    "# data = data.load(save_file=save_file)"
   ]
  },
  {
   "cell_type": "markdown",
   "metadata": {
    "deletable": true,
    "editable": true
   },
   "source": [
    "## Hyperparameters"
   ]
  },
  {
   "cell_type": "markdown",
   "metadata": {
    "deletable": true,
    "editable": true
   },
   "source": [
    "### Image dimensions"
   ]
  },
  {
   "cell_type": "code",
   "execution_count": null,
   "metadata": {
    "collapsed": false,
    "deletable": true,
    "editable": true
   },
   "outputs": [],
   "source": [
    "img_size = data.size\n",
    "img_channel = data.channels\n",
    "img_shape = [img_size, img_size, img_channel]\n",
    "img_size_flat = np.array(img_shape).prod()\n",
    "print('Size: {}\\tChannel: {}\\t shape: {}\\tFlattened: {:,}'.format(img_size, img_channel, img_shape, img_size_flat))"
   ]
  },
  {
   "cell_type": "markdown",
   "metadata": {
    "deletable": true,
    "editable": true
   },
   "source": [
    "### Network Hyperparameters"
   ]
  },
  {
   "cell_type": "code",
   "execution_count": null,
   "metadata": {
    "collapsed": true,
    "deletable": true,
    "editable": true
   },
   "outputs": [],
   "source": [
    "keep_prob = 0.8\n",
    "hidden_dim = 256\n",
    "latent_dim = 128\n",
    "\n",
    "filter_size = 5\n",
    "conv1_size = 16\n",
    "conv2_size = 32\n",
    "fc1_size = 512\n",
    "fc2_size = 64"
   ]
  },
  {
   "cell_type": "markdown",
   "metadata": {
    "deletable": true,
    "editable": true
   },
   "source": [
    "### Training Hyperparameters"
   ]
  },
  {
   "cell_type": "code",
   "execution_count": null,
   "metadata": {
    "collapsed": true,
    "deletable": true,
    "editable": true
   },
   "outputs": [],
   "source": [
    "batch_size = 24\n",
    "learning_rate = 1e-1\n",
    "iterations = 10000\n",
    "save_interval = 100\n",
    "log_interval = 1000"
   ]
  },
  {
   "cell_type": "markdown",
   "metadata": {
    "deletable": true,
    "editable": true
   },
   "source": [
    "### Helpers"
   ]
  },
  {
   "cell_type": "code",
   "execution_count": null,
   "metadata": {
    "collapsed": true,
    "deletable": true,
    "editable": true
   },
   "outputs": [],
   "source": [
    "# weights\n",
    "def weight(shape, name):\n",
    "    initial = tf.truncated_normal(shape=shape, mean=0, stddev=0.4)\n",
    "    return tf.Variable(initial, name=name)\n",
    "\n",
    "# biases\n",
    "def bias(shape, name):\n",
    "    initial = tf.zeros(shape=[shape])\n",
    "    return tf.Variable(initial, name=name)\n",
    "\n",
    "def leakyReLU(X, alpha=0.3):\n",
    "    return tf.maximum(X, tf.multiply(X, alpha))\n",
    "\n",
    "# convolutional block\n",
    "def conv(X, W, b):\n",
    "    layer = tf.nn.conv2d(X, W, strides=[1, 1, 1, 1], padding='SAME')\n",
    "    layer = layer + b  # add bias\n",
    "    layer = tf.nn.relu(layer)\n",
    "    layer = tf.nn.max_pool(layer, ksize=[1, 2, 2, 1], strides=[1, 2, 2, 1], padding='SAME')\n",
    "    layer = tf.contrib.layers.batch_norm(layer)\n",
    "    return layer\n",
    "\n",
    "# deconvolutional block\n",
    "def deconv(X, W, b):\n",
    "    pass\n",
    "\n",
    "# fully connected block\n",
    "def dense(X, W, b, activation=leakyReLU, batch_norm=False):\n",
    "    layer = tf.matmul(X, W) + b\n",
    "    if activation:\n",
    "        layer = activation(layer)\n",
    "    if batch_norm:\n",
    "        layer = tf.contrib.layers.batch_norm(layer)\n",
    "    return layer\n",
    "\n",
    "# flatten\n",
    "def flatten(layer):\n",
    "    shape = layer.get_shape()\n",
    "    features = np.array(shape[1:4], dtype=int).prod()\n",
    "    layer = tf.reshape(layer, [-1, features])\n",
    "    return layer, features\n",
    "\n",
    "# Plot images in grid\n",
    "def plot_images(imgs, name=None, smooth=False, **kwargs):\n",
    "    grid = int(np.sqrt(len(imgs)))\n",
    "    # Create figure with sub-plots.\n",
    "    fig, axes = plt.subplots(grid, grid)\n",
    "    fig.subplots_adjust(hspace=0.3, wspace=0.3)\n",
    "    \n",
    "    for i, ax in enumerate(axes.flat):\n",
    "        # Interpolation type.\n",
    "        interpolation = 'spline16' if smooth else 'nearest'\n",
    "        # Plot image.\n",
    "        ax.imshow(imgs[i].reshape(img_shape), interpolation=interpolation, **kwargs)\n",
    "        # Remove ticks from the plot.\n",
    "        ax.set_xticks([])\n",
    "        ax.set_yticks([])\n",
    "    if name:\n",
    "        plt.suptitle(name)\n",
    "    plt.show()"
   ]
  },
  {
   "cell_type": "markdown",
   "metadata": {
    "deletable": true,
    "editable": true
   },
   "source": [
    "## The Variational Auto Encoder"
   ]
  },
  {
   "cell_type": "markdown",
   "metadata": {
    "deletable": true,
    "editable": true
   },
   "source": [
    "### Encoder"
   ]
  },
  {
   "cell_type": "code",
   "execution_count": null,
   "metadata": {
    "collapsed": true,
    "deletable": true,
    "editable": true
   },
   "outputs": [],
   "source": [
    "def encoder(image):\n",
    "    with tf.name_scope('encoder'):\n",
    "        net = tflearn.reshape(image, new_shape=[-1, *img_shape])\n",
    "        # 1st convnet\n",
    "        net = tflearn.conv_2d(net, nb_filter=conv1_size, filter_size=filter_size, strides=2, activation='relu')\n",
    "        net = tflearn.batch_normalization(net)\n",
    "        # 2nd convnet\n",
    "        net = tflearn.conv_2d(net, nb_filter=conv2_size, filter_size=filter_size, strides=2, activation='relu')\n",
    "        net = tflearn.batch_normalization(net)\n",
    "        # flatten\n",
    "        net = tflearn.flatten(net)\n",
    "        # 1st fully connected layer\n",
    "        net = tflearn.fully_connected(net, n_units=fc1_size, activation='linear')\n",
    "        net = tflearn.dropout(net, keep_prob=keep_prob)\n",
    "        # Hidden fully connected layer\n",
    "        net = tflearn.fully_connected(net, n_units=hidden_dim, activation='linear')\n",
    "        net = tflearn.dropout(net, keep_prob=keep_prob)\n",
    "        # Mean\n",
    "        mean = tflearn.fully_connected(net, n_units=latent_dim, activation=None)\n",
    "        # Standard deviation\n",
    "        stddev = 0.5 * tflearn.fully_connected(net, n_units=latent_dim, activation=None)\n",
    "        # Random noise\n",
    "        noise = tf.random_normal(shape=[1, latent_dim])\n",
    "        encoded = mean + tf.multiply(noise, tf.exp(0.5 * stddev))\n",
    "        return encoded, mean, stddev"
   ]
  },
  {
   "cell_type": "code",
   "execution_count": null,
   "metadata": {
    "collapsed": false,
    "deletable": true,
    "editable": true,
    "scrolled": true
   },
   "outputs": [],
   "source": []
  },
  {
   "cell_type": "markdown",
   "metadata": {
    "deletable": true,
    "editable": true
   },
   "source": [
    "### Decoder"
   ]
  },
  {
   "cell_type": "code",
   "execution_count": null,
   "metadata": {
    "collapsed": true,
    "deletable": true,
    "editable": true
   },
   "outputs": [],
   "source": [
    "def decoder(encoded):\n",
    "    with tf.name_scope('decoder'):\n",
    "        # 1st fully connected layer\n",
    "        net = tflearn.fully_connected(encoded, n_units=hidden_dim, activation=tflearn.leaky_relu)\n",
    "        net = tflearn.batch_normalization(net)\n",
    "        # 2nd fully connected layer\n",
    "        net = tflearn.fully_connected(net, n_units=fc2_size, activation=tflearn.leaky_relu)\n",
    "        # 1st convnet\n",
    "        # 2nd convnet\n",
    "        # net = tflearn.flatten(net)\n",
    "        # Reconstruction\n",
    "        net = tflearn.fully_connected(net, n_units=img_size_flat, activation='sigmoid')\n",
    "        return net"
   ]
  },
  {
   "cell_type": "code",
   "execution_count": null,
   "metadata": {
    "collapsed": false,
    "deletable": true,
    "editable": true
   },
   "outputs": [],
   "source": [
    "tf.reset_default_graph()\n",
    "\n",
    "X = tf.placeholder(tf.float32, shape=[None, img_size_flat])\n",
    "encoded, mean, stddev = encoder(X)\n",
    "decoded = decoder(encoded)\n",
    "reconstruct = tf.reshape(decoded, shape=[-1, *img_shape])"
   ]
  },
  {
   "cell_type": "markdown",
   "metadata": {
    "deletable": true,
    "editable": true
   },
   "source": [
    "### Loss function"
   ]
  },
  {
   "cell_type": "code",
   "execution_count": null,
   "metadata": {
    "collapsed": false,
    "deletable": true,
    "editable": true
   },
   "outputs": [],
   "source": [
    "rec_loss = tf.reduce_sum(tf.squared_difference(decoded, X), reduction_indices=1) \n",
    "kl_term = tf.reduce_sum(1.0 + 2.0 * stddev - tf.square(mean) - tf.exp(2.0 * stddev), reduction_indices=1)\n",
    "loss = tf.reduce_mean(rec_loss + kl_term)"
   ]
  },
  {
   "cell_type": "markdown",
   "metadata": {
    "deletable": true,
    "editable": true
   },
   "source": [
    "### Optimizer"
   ]
  },
  {
   "cell_type": "code",
   "execution_count": null,
   "metadata": {
    "collapsed": true,
    "deletable": true,
    "editable": true
   },
   "outputs": [],
   "source": [
    "global_step = tf.Variable(0, trainable=False, name='global_step')\n",
    "optimizer = tf.train.RMSPropOptimizer(learning_rate=learning_rate)\n",
    "trainer = optimizer.minimize(loss, global_step=global_step)"
   ]
  },
  {
   "cell_type": "markdown",
   "metadata": {
    "deletable": true,
    "editable": true
   },
   "source": [
    "## Tensorflow `Session`"
   ]
  },
  {
   "cell_type": "code",
   "execution_count": null,
   "metadata": {
    "collapsed": true,
    "deletable": true,
    "editable": true
   },
   "outputs": [],
   "source": [
    "sess = tf.Session()\n",
    "sess.run(tf.global_variables_initializer())"
   ]
  },
  {
   "cell_type": "markdown",
   "metadata": {
    "deletable": true,
    "editable": true
   },
   "source": [
    "### Tensorboard"
   ]
  },
  {
   "cell_type": "code",
   "execution_count": null,
   "metadata": {
    "collapsed": true,
    "deletable": true,
    "editable": true
   },
   "outputs": [],
   "source": [
    "tensorboard_dir = 'tensorboard'\n",
    "logdir = os.path.join(tensorboard_dir, 'log')\n",
    "save_path = 'models'\n",
    "saved_model = os.path.join(save_path, 'model')\n",
    "\n",
    "# Summaries\n",
    "tf.summary.scalar('loss', loss)\n",
    "tf.summary.scalar('rec_loss_mean', tf.reduce_mean(rec_loss))\n",
    "tf.summary.scalar('kl_term_mean', tf.reduce_mean(kl_term))\n",
    "tf.summary.histogram('rec_loss', rec_loss)\n",
    "tf.summary.histogram('kl_term', kl_term)\n",
    "tf.summary.image('reconstruct', reconstruct, max_outputs=4)\n",
    "merged = tf.summary.merge_all()\n",
    "\n",
    "# saver & writer\n",
    "saver = tf.train.Saver()\n",
    "writer = tf.summary.FileWriter(logdir=logdir, graph=sess.graph)"
   ]
  },
  {
   "cell_type": "markdown",
   "metadata": {
    "deletable": true,
    "editable": true
   },
   "source": [
    "### Loading Pretrained model"
   ]
  },
  {
   "cell_type": "code",
   "execution_count": null,
   "metadata": {
    "collapsed": false,
    "deletable": true,
    "editable": true
   },
   "outputs": [],
   "source": [
    "if tf.gfile.Exists(save_path):\n",
    "    try:\n",
    "        sys.stdout.write('INFO: Attempting to load last checkpoint\\n')\n",
    "        last_ckpt = tf.train.latest_checkpoint(save_path)\n",
    "        saver.restore(sess=sess, save_path=last_ckpt)\n",
    "        sys.stdout.write('INFO: Loaded checkpoint from {}\\n'.format(last_ckpt))\n",
    "    except Exception as e:\n",
    "        sys.stderr.write('{}\\n'.format(e))\n",
    "else:\n",
    "    tf.gfile.MakeDirs(save_path)\n",
    "    sys.stdout.write('Created check piont directory – {}'.format(save_path))"
   ]
  },
  {
   "cell_type": "markdown",
   "metadata": {
    "deletable": true,
    "editable": true
   },
   "source": [
    "## Training"
   ]
  },
  {
   "cell_type": "code",
   "execution_count": null,
   "metadata": {
    "collapsed": false,
    "deletable": true,
    "editable": true
   },
   "outputs": [],
   "source": [
    "start_time = dt.datetime.now()\n",
    "for i in range(iterations):\n",
    "    img_batch = data.next_batch(batch_size=batch_size)\n",
    "    _, _loss, _global_step = sess.run([trainer, loss, global_step], feed_dict={X: img_batch})\n",
    "    if i % save_interval == 0:\n",
    "        saver.save(sess=sess, save_path=saved_model, global_step=global_step)\n",
    "        summary = sess.run(merged, feed_dict={X: img_batch})\n",
    "        writer.add_summary(summary=summary, global_step=_global_step)\n",
    "    if i % log_interval == 0:\n",
    "        randoms = [np.random.normal(0, 1, latent_dim) for _ in range(9)]\n",
    "        imgs = sess.run(decoded, feed_dict={encoded: randoms})\n",
    "        plot_images(imgs, size=img_size, name='Test images', smooth=True)\n",
    "    sys.stdout.write('Iteration: {:,}\\tGlobal steps: {:,}Loss: {:.2f}\\tTime taken: {}'\n",
    "                     .format(i+1, _global_step, _loss, dt.datetime.now() - start_time))"
   ]
  },
  {
   "cell_type": "code",
   "execution_count": null,
   "metadata": {
    "collapsed": true,
    "deletable": true,
    "editable": true
   },
   "outputs": [],
   "source": []
  },
  {
   "cell_type": "code",
   "execution_count": null,
   "metadata": {
    "collapsed": true,
    "deletable": true,
    "editable": true
   },
   "outputs": [],
   "source": []
  },
  {
   "cell_type": "code",
   "execution_count": null,
   "metadata": {
    "collapsed": true,
    "deletable": true,
    "editable": true
   },
   "outputs": [],
   "source": []
  }
 ],
 "metadata": {
  "kernelspec": {
   "display_name": "Python 3",
   "language": "python",
   "name": "python3"
  },
  "language_info": {
   "codemirror_mode": {
    "name": "ipython",
    "version": 3
   },
   "file_extension": ".py",
   "mimetype": "text/x-python",
   "name": "python",
   "nbconvert_exporter": "python",
   "pygments_lexer": "ipython3",
   "version": "3.6.3"
  }
 },
 "nbformat": 4,
 "nbformat_minor": 2
}
